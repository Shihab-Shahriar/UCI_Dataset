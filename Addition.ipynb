{
 "cells": [
  {
   "cell_type": "code",
   "execution_count": 26,
   "metadata": {},
   "outputs": [],
   "source": [
    "import os\n",
    "import pandas as pd\n",
    "import numpy as np\n",
    "from sklearn.preprocessing import MinMaxScaler\n",
    "from sklearn.ensemble import RandomForestClassifier\n",
    "from sklearn.utils import shuffle\n",
    "from sklearn.model_selection import cross_val_score, RepeatedStratifiedKFold"
   ]
  },
  {
   "cell_type": "code",
   "execution_count": 32,
   "metadata": {},
   "outputs": [
    {
     "data": {
      "text/plain": [
       "((2000, 216), (2000, 241), (2000, 76), (2000, 64))"
      ]
     },
     "execution_count": 32,
     "metadata": {},
     "output_type": "execute_result"
    }
   ],
   "source": [
    "fac = pd.read_csv(\"mfeat-fac\", delim_whitespace=True, header=None)\n",
    "fou = pd.read_csv(\"mfeat-fou\", delim_whitespace=True, header=None)\n",
    "kar = pd.read_csv(\"mfeat-kar\", delim_whitespace=True, header=None)\n",
    "pix = pd.read_csv(\"mfeat.txt\", delim_whitespace=True, header=None)\n",
    "fac.shape,pix.shape,fou.shape,kar.shape"
   ]
  },
  {
   "cell_type": "code",
   "execution_count": 33,
   "metadata": {},
   "outputs": [
    {
     "data": {
      "text/plain": [
       "(2000, 65)"
      ]
     },
     "execution_count": 33,
     "metadata": {},
     "output_type": "execute_result"
    }
   ],
   "source": [
    "karV = np.concatenate((pix.values[:, 0].reshape(-1,1),kar.values,),axis=1)\n",
    "karV.shape"
   ]
  },
  {
   "cell_type": "code",
   "execution_count": 34,
   "metadata": {},
   "outputs": [],
   "source": [
    "ou = pd.DataFrame(karV)\n",
    "ou.to_csv(\"mfeat-kar.txt\",sep=' ',header=None,index=None)"
   ]
  },
  {
   "cell_type": "code",
   "execution_count": null,
   "metadata": {},
   "outputs": [],
   "source": []
  },
  {
   "cell_type": "markdown",
   "metadata": {},
   "source": [
    "## Testing"
   ]
  },
  {
   "cell_type": "code",
   "execution_count": 35,
   "metadata": {},
   "outputs": [],
   "source": [
    "def read_uci(dataset, stats=False):\n",
    "    path = f'{dataset}.txt'\n",
    "    df = pd.read_csv(path, delim_whitespace=True, header=None)\n",
    "    df = df.astype('float64')\n",
    "    data = df.values\n",
    "    X, Y = data[:, 1:], data[:, 0].astype('int32')\n",
    "    if Y.min() == 1:\n",
    "        Y -= 1\n",
    "    X = MinMaxScaler().fit_transform(X)\n",
    "    if stats:\n",
    "        labels, freq = np.unique(Y, return_counts=True)\n",
    "        print(dataset, X.shape, len(labels), freq.min()/freq.max(), freq)\n",
    "    return shuffle(X, Y, random_state=42)"
   ]
  },
  {
   "cell_type": "code",
   "execution_count": 36,
   "metadata": {},
   "outputs": [
    {
     "name": "stdout",
     "output_type": "stream",
     "text": [
      "mfeat-kar (2000, 64) 10 1.0 [200 200 200 200 200 200 200 200 200 200]\n"
     ]
    }
   ],
   "source": [
    "X,y = read_uci('mfeat-kar',True)"
   ]
  },
  {
   "cell_type": "code",
   "execution_count": 37,
   "metadata": {},
   "outputs": [
    {
     "data": {
      "text/plain": [
       "(0.958, 0.00796868872525462)"
      ]
     },
     "execution_count": 37,
     "metadata": {},
     "output_type": "execute_result"
    }
   ],
   "source": [
    "cv = RepeatedStratifiedKFold(n_splits=5,n_repeats=2)\n",
    "r = cross_val_score(RandomForestClassifier(),X,y,cv=cv)\n",
    "r.mean(),r.std()"
   ]
  },
  {
   "cell_type": "code",
   "execution_count": null,
   "metadata": {},
   "outputs": [],
   "source": [
    "\n",
    "\n",
    "\n",
    "\n",
    "\n",
    "\n",
    "\n",
    "\n",
    "\n",
    "\n",
    "\n",
    "\n",
    "\n",
    "\n",
    "\n",
    "\n",
    "\n",
    "\n",
    "\n"
   ]
  }
 ],
 "metadata": {
  "kernelspec": {
   "display_name": "Python 3",
   "language": "python",
   "name": "python3"
  },
  "language_info": {
   "codemirror_mode": {
    "name": "ipython",
    "version": 3
   },
   "file_extension": ".py",
   "mimetype": "text/x-python",
   "name": "python",
   "nbconvert_exporter": "python",
   "pygments_lexer": "ipython3",
   "version": "3.7.0"
  }
 },
 "nbformat": 4,
 "nbformat_minor": 4
}
