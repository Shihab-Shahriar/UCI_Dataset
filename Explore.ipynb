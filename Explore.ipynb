{
 "cells": [
  {
   "cell_type": "code",
   "execution_count": 1,
   "metadata": {},
   "outputs": [],
   "source": [
    "import os\n",
    "import pandas as pd\n",
    "import numpy as np\n",
    "from sklearn.preprocessing import MinMaxScaler\n",
    "from sklearn.ensemble import RandomForestClassifier\n",
    "from sklearn.utils import shuffle\n",
    "from sklearn.model_selection import cross_val_score, RepeatedStratifiedKFold"
   ]
  },
  {
   "cell_type": "code",
   "execution_count": 2,
   "metadata": {},
   "outputs": [],
   "source": [
    "def read_uci(dataset, stats=False):\n",
    "    path = f'{dataset}.txt'\n",
    "    df = pd.read_csv(path, delim_whitespace=True, header=None)\n",
    "    df = df.astype('float64')\n",
    "    data = df.values\n",
    "    X, Y = data[:, 1:], data[:, 0].astype('int32')\n",
    "    if Y.min() == 1:\n",
    "        Y -= 1\n",
    "    X = MinMaxScaler().fit_transform(X)\n",
    "    if stats:\n",
    "        labels, freq = np.unique(Y, return_counts=True)\n",
    "        print(dataset, X.shape, len(labels), freq.min()/freq.max(), freq)\n",
    "    return shuffle(X, Y, random_state=42)"
   ]
  },
  {
   "cell_type": "code",
   "execution_count": 3,
   "metadata": {},
   "outputs": [
    {
     "name": "stdout",
     "output_type": "stream",
     "text": [
      "BreastTissue.txt, 1.571, 6, (106, 9)\n",
      "arrhythmia.txt, 1.295, 2, (420, 278)\n",
      "australian.txt, 1.248, 2, (690, 14)\n",
      "breast.txt, 1.684, 2, (569, 30)\n",
      "bupa.txt, 1.379, 2, (345, 6)\n",
      "electricity.txt, 1.355, 2, (45312, 14)\n",
      "heart.txt, 1.250, 2, (270, 13)\n",
      "ionosphere.txt, 1.786, 2, (351, 34)\n",
      "iris.txt, 1.000, 3, (150, 4)\n",
      "letter.txt, 1.108, 26, (20000, 16)\n",
      "libras.txt, 1.000, 15, (360, 90)\n",
      "liver.txt, 1.379, 2, (345, 6)\n",
      "madelon.txt, 1.000, 2, (2600, 500)\n",
      "mammographic.txt, 1.060, 2, (830, 5)\n",
      "mfeat.txt, 1.000, 10, (2000, 240)\n",
      "musk.txt, 1.319, 2, (473, 165)\n",
      "optdigits.txt, 1.032, 10, (5620, 64)\n",
      "pendigits.txt, 1.084, 10, (10992, 16)\n",
      "pima.txt, 1.866, 2, (768, 8)\n",
      "ring.txt, 1.020, 2, (7400, 20)\n",
      "segment.txt, 1.000, 7, (2310, 18)\n",
      "seismic.txt, 1.000, 3, (210, 7)\n",
      "semeion.txt, 1.045, 10, (1593, 256)\n",
      "smartphone.txt, 1.000, 6, (180, 66)\n",
      "sonar.txt, 1.144, 2, (208, 60)\n",
      "spambase.txt, 1.538, 2, (4601, 57)\n",
      "twonorm.txt, 1.002, 2, (7400, 20)\n",
      "vowel.txt, 1.000, 11, (990, 13)\n",
      "waveform.txt, 1.030, 3, (5000, 21)\n",
      "wifi.txt, 1.000, 4, (2000, 7)\n",
      "wine.txt, 1.479, 3, (178, 13)\n"
     ]
    },
    {
     "name": "stderr",
     "output_type": "stream",
     "text": [
      "c:\\program files\\python37\\lib\\site-packages\\ipykernel_launcher.py:11: RuntimeWarning: divide by zero encountered in int_scalars\n",
      "  # This is added back by InteractiveShellApp.init_path()\n"
     ]
    }
   ],
   "source": [
    "for f in sorted(os.listdir()):\n",
    "    if not f.endswith('txt'):\n",
    "        continue\n",
    "    try:\n",
    "        X, Y = read_uci(f.split('.')[0], False)\n",
    "    except Exception as e:\n",
    "        print(\"ERROR:\", f, e)\n",
    "        continue\n",
    "        \n",
    "    freq = np.bincount(Y)\n",
    "    ir = freq.max()/freq.min()\n",
    "    if ir<=2:\n",
    "        print(f\"{f}, {ir:.3f}, {len(freq)}, {X.shape}\")"
   ]
  },
  {
   "cell_type": "code",
   "execution_count": null,
   "metadata": {},
   "outputs": [],
   "source": []
  },
  {
   "cell_type": "code",
   "execution_count": null,
   "metadata": {},
   "outputs": [],
   "source": [
    "\n",
    "\n",
    "\n",
    "\n",
    "\n",
    "\n",
    "\n",
    "\n",
    "\n",
    "\n",
    "\n",
    "\n",
    "\n",
    "\n",
    "\n",
    "\n",
    "\n",
    "\n",
    "\n"
   ]
  }
 ],
 "metadata": {
  "kernelspec": {
   "display_name": "Python 3",
   "language": "python",
   "name": "python3"
  },
  "language_info": {
   "codemirror_mode": {
    "name": "ipython",
    "version": 3
   },
   "file_extension": ".py",
   "mimetype": "text/x-python",
   "name": "python",
   "nbconvert_exporter": "python",
   "pygments_lexer": "ipython3",
   "version": "3.7.0"
  }
 },
 "nbformat": 4,
 "nbformat_minor": 4
}
