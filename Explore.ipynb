{
 "cells": [
  {
   "cell_type": "code",
   "execution_count": 2,
   "metadata": {},
   "outputs": [],
   "source": [
    "import os\n",
    "import pandas as pd\n",
    "import numpy as np\n",
    "from sklearn.preprocessing import MinMaxScaler\n",
    "from sklearn.ensemble import RandomForestClassifier\n",
    "from sklearn.utils import shuffle\n",
    "from sklearn.model_selection import cross_val_score, RepeatedStratifiedKFold"
   ]
  },
  {
   "cell_type": "code",
   "execution_count": 3,
   "metadata": {},
   "outputs": [],
   "source": [
    "def read_uci(dataset, stats=False):\n",
    "    path = f'{dataset}.txt'\n",
    "    df = pd.read_csv(path, delim_whitespace=True, header=None)\n",
    "    df = df.astype('float64')\n",
    "    data = df.values\n",
    "    X, Y = data[:, 1:], data[:, 0].astype('int32')\n",
    "    if Y.min() == 1:\n",
    "        Y -= 1\n",
    "    X = MinMaxScaler().fit_transform(X)\n",
    "    if stats:\n",
    "        labels, freq = np.unique(Y, return_counts=True)\n",
    "        print(dataset, X.shape, len(labels), freq.min()/freq.max(), freq)\n",
    "    return shuffle(X, Y, random_state=42)"
   ]
  },
  {
   "cell_type": "code",
   "execution_count": null,
   "metadata": {},
   "outputs": [],
   "source": [
    "for f in sorted(os.listdir()):\n",
    "    if not f.endswith('txt'):\n",
    "        continue\n",
    "    try:\n",
    "        X, Y = read_uci(f.split('.')[0], False)\n",
    "    except Exception as e:\n",
    "        print(\"ERROR:\", f, e)\n",
    "        continue\n",
    "        \n",
    "    freq = np.bincount(Y)\n",
    "    ir = freq.max()/freq.min()\n",
    "    if ir<=2:\n",
    "        print(f\"{f}, {ir:.3f}, {len(freq)}, {X.shape}\")"
   ]
  },
  {
   "cell_type": "code",
   "execution_count": null,
   "metadata": {},
   "outputs": [],
   "source": []
  },
  {
   "cell_type": "code",
   "execution_count": null,
   "metadata": {},
   "outputs": [],
   "source": [
    "\n",
    "\n",
    "\n",
    "\n",
    "\n",
    "\n",
    "\n",
    "\n",
    "\n",
    "\n",
    "\n",
    "\n",
    "\n",
    "\n",
    "\n",
    "\n",
    "\n",
    "\n",
    "\n"
   ]
  }
 ],
 "metadata": {
  "kernelspec": {
   "display_name": "Python 3",
   "language": "python",
   "name": "python3"
  },
  "language_info": {
   "codemirror_mode": {
    "name": "ipython",
    "version": 3
   },
   "file_extension": ".py",
   "mimetype": "text/x-python",
   "name": "python",
   "nbconvert_exporter": "python",
   "pygments_lexer": "ipython3",
   "version": "3.7.6"
  }
 },
 "nbformat": 4,
 "nbformat_minor": 4
}
